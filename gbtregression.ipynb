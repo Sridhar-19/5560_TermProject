{
 "cells": [
  {
   "cell_type": "code",
   "execution_count": 0,
   "metadata": {
    "application/vnd.databricks.v1+cell": {
     "cellMetadata": {
      "byteLimit": 2048000,
      "rowLimit": 10000
     },
     "inputWidgets": {},
     "nuid": "99cefd7d-2fde-4acf-8507-0b0832089a0f",
     "showTitle": false,
     "title": ""
    }
   },
   "outputs": [],
   "source": [
    "from pyspark.sql import SparkSession\n",
    "from pyspark.sql.types import IntegerType, DoubleType\n",
    "from pyspark.sql.functions import udf, col, dayofyear, month, year, when\n",
    "from pyspark.ml import Pipeline\n",
    "from pyspark.ml.feature import StringIndexer, VectorAssembler\n",
    "from pyspark.ml.regression import GBTRegressor, RandomForestRegressor\n",
    "from pyspark.ml.evaluation import RegressionEvaluator\n",
    "from pyspark import SparkContext\n",
    "import re"
   ]
  },
  {
   "cell_type": "code",
   "execution_count": 0,
   "metadata": {
    "application/vnd.databricks.v1+cell": {
     "cellMetadata": {
      "byteLimit": 2048000,
      "rowLimit": 10000
     },
     "inputWidgets": {},
     "nuid": "44d36673-74c9-416b-b058-4236878da978",
     "showTitle": false,
     "title": ""
    }
   },
   "outputs": [],
   "source": [
    "PYSPARK_CLI = False\n",
    "if PYSPARK_CLI:\n",
    "    sc = SparkContext.getOrCreate()\n",
    "    spark = SparkSession(sc)"
   ]
  },
  {
   "cell_type": "code",
   "execution_count": 0,
   "metadata": {
    "application/vnd.databricks.v1+cell": {
     "cellMetadata": {
      "byteLimit": 2048000,
      "rowLimit": 10000
     },
     "inputWidgets": {},
     "nuid": "ae907dc1-77c1-4216-99ff-336a27a4255d",
     "showTitle": false,
     "title": ""
    }
   },
   "outputs": [],
   "source": [
    "# Function to convert ISO 8601 durations to minutes\n",
    "def parse_duration(duration):\n",
    "    match = re.match(r'PT(\\d+H)?(\\d+M)?', duration)\n",
    "    hours = int(match.group(1)[:-1]) if match.group(1) else 0\n",
    "    minutes = int(match.group(2)[:-1]) if match.group(2) else 0\n",
    "    return hours * 60 + minutes"
   ]
  },
  {
   "cell_type": "code",
   "execution_count": 0,
   "metadata": {
    "application/vnd.databricks.v1+cell": {
     "cellMetadata": {
      "byteLimit": 2048000,
      "rowLimit": 10000
     },
     "inputWidgets": {},
     "nuid": "c39d2e9e-0f5b-477a-9568-ad4394636079",
     "showTitle": false,
     "title": ""
    }
   },
   "outputs": [],
   "source": [
    "# Register UDF\n",
    "parse_duration_udf = udf(parse_duration, IntegerType())"
   ]
  },
  {
   "cell_type": "code",
   "execution_count": 0,
   "metadata": {
    "application/vnd.databricks.v1+cell": {
     "cellMetadata": {
      "byteLimit": 2048000,
      "rowLimit": 10000
     },
     "inputWidgets": {},
     "nuid": "d683293a-a473-4c6d-8b6f-f0bbeb8bda93",
     "showTitle": false,
     "title": ""
    }
   },
   "outputs": [],
   "source": [
    "# File location and type\n",
    "file_location = \"/FileStore/tables/startingAiport_LAX_df.csv\"\n",
    "file_type = \"csv\"\n",
    "infer_schema = \"true\"\n",
    "first_row_is_header = \"true\"\n",
    "delimiter = \",\""
   ]
  },
  {
   "cell_type": "code",
   "execution_count": 0,
   "metadata": {
    "application/vnd.databricks.v1+cell": {
     "cellMetadata": {
      "byteLimit": 2048000,
      "rowLimit": 10000
     },
     "inputWidgets": {},
     "nuid": "94a1ded6-8eee-497a-baad-62b791501b82",
     "showTitle": false,
     "title": ""
    }
   },
   "outputs": [],
   "source": [
    "# Read the data\n",
    "df = spark.read.format(file_type) \\\n",
    "  .option(\"inferSchema\", infer_schema) \\\n",
    "  .option(\"header\", first_row_is_header) \\\n",
    "  .option(\"sep\", delimiter) \\\n",
    "  .load(file_location)"
   ]
  },
  {
   "cell_type": "code",
   "execution_count": 0,
   "metadata": {
    "application/vnd.databricks.v1+cell": {
     "cellMetadata": {
      "byteLimit": 2048000,
      "rowLimit": 10000
     },
     "inputWidgets": {},
     "nuid": "eef71495-f00a-4863-b910-473ef76168d5",
     "showTitle": false,
     "title": ""
    }
   },
   "outputs": [],
   "source": [
    "# Apply the UDF and other transformations\n",
    "df = df.withColumn(\"flightDayOfYear\", dayofyear(col(\"flightDate\").cast(\"date\")))\n",
    "df = df.withColumn(\"travelDurationMin\", parse_duration_udf(col(\"travelDuration\")).cast(DoubleType()))\n",
    "df = df.withColumn(\"flightMonth\", month(\"flightDate\"))\n",
    "df = df.withColumn(\"flightYear\", year(\"flightDate\"))\n",
    "df = df.withColumn(\"SearchDayoftheYear\", dayofyear(col(\"searchDate\").cast(\"date\")))\n",
    "df = df.na.fill(0)  # Fill nulls if any"
   ]
  },
  {
   "cell_type": "code",
   "execution_count": 0,
   "metadata": {
    "application/vnd.databricks.v1+cell": {
     "cellMetadata": {
      "byteLimit": 2048000,
      "rowLimit": 10000
     },
     "inputWidgets": {},
     "nuid": "86780f1b-8578-4ff7-b6c7-cf8ef9267f64",
     "showTitle": false,
     "title": ""
    }
   },
   "outputs": [],
   "source": [
    "# Drop unused columns\n",
    "columns_to_drop = [\"legID\", \"segmentsDepartureTimeEpochSeconds\", \"segmentsArrivalTimeEpochSeconds\",\n",
    "                   \"segmentsArrivalAirportCode\", \"segmentsDepartureAirportCode\", \"segmentsAirlineName\",\n",
    "                   \"segmentsAirlineCode\", \"segmentsEquipmentDescription\", \"segmentsDurationInSeconds\",\n",
    "                   \"segmentsDistance\", \"segmentsCabinCode\", \"segmentsDistance\", \"segmentsDurationInSeconds\",\n",
    "                   \"segmentsArrivalTimeRaw\", \"segmentsDepartureTimeRaw\", \"segmentsAirlineCode\", \"startingAirport\"  \"baseFare\",]\n",
    "df = df.drop(*columns_to_drop)"
   ]
  },
  {
   "cell_type": "code",
   "execution_count": 0,
   "metadata": {
    "application/vnd.databricks.v1+cell": {
     "cellMetadata": {
      "byteLimit": 2048000,
      "rowLimit": 10000
     },
     "inputWidgets": {},
     "nuid": "62c8ea0f-2586-4d42-91bd-825a7dc2fd84",
     "showTitle": false,
     "title": ""
    }
   },
   "outputs": [],
   "source": [
    "# Reducing cardinality for 'fareBasisCode' by retaining only top categories\n",
    "top_categories = df.select(\"fareBasisCode\").groupBy(\"fareBasisCode\").count().orderBy(\"count\", ascending=False).limit(50).rdd.flatMap(lambda x: x).collect()\n",
    "df = df.withColumn(\"fareBasisCodeReduced\", when(col(\"fareBasisCode\").isin(top_categories), col(\"fareBasisCode\")).otherwise(\"Other\"))\n"
   ]
  },
  {
   "cell_type": "code",
   "execution_count": 0,
   "metadata": {
    "application/vnd.databricks.v1+cell": {
     "cellMetadata": {
      "byteLimit": 2048000,
      "rowLimit": 10000
     },
     "inputWidgets": {},
     "nuid": "3746dbea-b7ce-4b6d-85ff-cd5e77e7d869",
     "showTitle": false,
     "title": ""
    }
   },
   "outputs": [],
   "source": [
    "# Indexing string columns including the reduced 'fareBasisCode'\n",
    "indexer = StringIndexer(inputCols=[\"destinationAirport\", \"fareBasisCodeReduced\"],\n",
    "                        outputCols=[\"destinationAirportIdx\", \"fareBasisCodeIndexed\"])\n",
    "df = indexer.fit(df).transform(df)"
   ]
  },
  {
   "cell_type": "code",
   "execution_count": 0,
   "metadata": {
    "application/vnd.databricks.v1+cell": {
     "cellMetadata": {
      "byteLimit": 2048000,
      "rowLimit": 10000
     },
     "inputWidgets": {},
     "nuid": "769bd0b9-ff98-4f81-baf2-fa002e101a41",
     "showTitle": false,
     "title": ""
    }
   },
   "outputs": [],
   "source": [
    "# Assemble features\n",
    "assembler = VectorAssembler(\n",
    "    inputCols=[\n",
    "        \"flightDayOfYear\",\n",
    "        \"elapsedDays\",\n",
    "        \"isBasicEconomy\",\n",
    "        \"isRefundable\",\n",
    "        \"isNonStop\",\n",
    "        \"destinationAirportIdx\",\n",
    "        \"seatsRemaining\",\n",
    "        \"totalTravelDistance\",\n",
    "        \"travelDurationMin\",\n",
    "        \"fareBasisCodeIndexed\",\n",
    "        \"SearchDayoftheYear\"\n",
    "    ],\n",
    "    outputCol=\"features\"\n",
    ")"
   ]
  },
  {
   "cell_type": "code",
   "execution_count": 0,
   "metadata": {
    "application/vnd.databricks.v1+cell": {
     "cellMetadata": {
      "byteLimit": 2048000,
      "rowLimit": 10000
     },
     "inputWidgets": {},
     "nuid": "c9f27d5c-509b-4f68-adbc-f2a4578e0782",
     "showTitle": false,
     "title": ""
    }
   },
   "outputs": [],
   "source": [
    "# Split the data\n",
    "splits = df.randomSplit([0.7, 0.3])\n",
    "train = splits[0]\n",
    "test = splits[1]\n"
   ]
  },
  {
   "cell_type": "code",
   "execution_count": 0,
   "metadata": {
    "application/vnd.databricks.v1+cell": {
     "cellMetadata": {
      "byteLimit": 2048000,
      "rowLimit": 10000
     },
     "inputWidgets": {},
     "nuid": "f496de20-7b29-44af-a66b-2bcef71f3445",
     "showTitle": false,
     "title": ""
    }
   },
   "outputs": [],
   "source": [
    "#GBT\n",
    "gbt = GBTRegressor(labelCol=\"totalFare\", featuresCol=\"features\", maxIter=50, maxBins=2200)\n",
    "# Pipeline setup\n",
    "pipeline_gbt = Pipeline(stages=[assembler, gbt])"
   ]
  },
  {
   "cell_type": "code",
   "execution_count": 0,
   "metadata": {
    "application/vnd.databricks.v1+cell": {
     "cellMetadata": {
      "byteLimit": 2048000,
      "rowLimit": 10000
     },
     "inputWidgets": {},
     "nuid": "d07f4662-7cb8-4597-b738-d716ed1e05f8",
     "showTitle": false,
     "title": ""
    }
   },
   "outputs": [],
   "source": [
    "# Fit models\n",
    "model_gbt = pipeline_gbt.fit(train)"
   ]
  },
  {
   "cell_type": "code",
   "execution_count": 0,
   "metadata": {
    "application/vnd.databricks.v1+cell": {
     "cellMetadata": {
      "byteLimit": 2048000,
      "rowLimit": 10000
     },
     "inputWidgets": {},
     "nuid": "13daf1b5-9c54-4d8a-9216-8fd98d6186d6",
     "showTitle": false,
     "title": ""
    }
   },
   "outputs": [],
   "source": [
    "# Predictions\n",
    "predictions_gbt = model_gbt.transform(test)"
   ]
  },
  {
   "cell_type": "code",
   "execution_count": 0,
   "metadata": {
    "application/vnd.databricks.v1+cell": {
     "cellMetadata": {
      "byteLimit": 2048000,
      "rowLimit": 10000
     },
     "inputWidgets": {},
     "nuid": "f9afcd88-291b-44e3-9084-f02bff200e32",
     "showTitle": false,
     "title": ""
    }
   },
   "outputs": [],
   "source": [
    "# Evaluators for RMSE and R2\n",
    "evaluator_rmse = RegressionEvaluator(labelCol=\"totalFare\", predictionCol=\"prediction\", metricName=\"rmse\")\n",
    "evaluator_r2 = RegressionEvaluator(labelCol=\"totalFare\", predictionCol=\"prediction\", metricName=\"r2\")"
   ]
  },
  {
   "cell_type": "code",
   "execution_count": 0,
   "metadata": {
    "application/vnd.databricks.v1+cell": {
     "cellMetadata": {
      "byteLimit": 2048000,
      "rowLimit": 10000
     },
     "inputWidgets": {},
     "nuid": "d824a1ce-1e83-4fcd-adb7-4b75f303b93e",
     "showTitle": false,
     "title": ""
    }
   },
   "outputs": [
    {
     "output_type": "stream",
     "name": "stdout",
     "output_type": "stream",
     "text": [
      "GBT Results - RMSE: 125.19746640754029, R2: 0.5631797662606564\n"
     ]
    }
   ],
   "source": [
    "# Evaluation results\n",
    "rmse_gbt = evaluator_rmse.evaluate(predictions_gbt)\n",
    "r2_gbt = evaluator_r2.evaluate(predictions_gbt)\n",
    "\n",
    "print(\"GBT Results - RMSE: {}, R2: {}\".format(rmse_gbt, r2_gbt))"
   ]
  }
 ],
 "metadata": {
  "application/vnd.databricks.v1+notebook": {
   "dashboards": [],
   "language": "python",
   "notebookMetadata": {
    "pythonIndentUnit": 4
   },
   "notebookName": "gbtregression",
   "widgets": {}
  }
 },
 "nbformat": 4,
 "nbformat_minor": 0
}
